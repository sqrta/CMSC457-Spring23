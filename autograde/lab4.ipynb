{
 "cells": [
  {
   "attachments": {},
   "cell_type": "markdown",
   "metadata": {},
   "source": [
    "# Qutip Examples"
   ]
  },
  {
   "cell_type": "code",
   "execution_count": 1,
   "metadata": {},
   "outputs": [],
   "source": [
    "from qutip import *\n",
    "\n",
    "# 5-qubit system\n",
    "N = 5"
   ]
  },
  {
   "attachments": {},
   "cell_type": "markdown",
   "metadata": {},
   "source": [
    "Identity and Pauli X Y Z operators"
   ]
  },
  {
   "cell_type": "code",
   "execution_count": 2,
   "metadata": {},
   "outputs": [],
   "source": [
    "identity = qeye(2)\n",
    "X = sigmax()\n",
    "Y = sigmay()\n",
    "Z = sigmaz()"
   ]
  },
  {
   "attachments": {},
   "cell_type": "markdown",
   "metadata": {},
   "source": [
    "$\\sigma_x(n)$ means a Pauli X operator on the n-th qubits and identity operators on the other qubits"
   ]
  },
  {
   "cell_type": "code",
   "execution_count": 3,
   "metadata": {},
   "outputs": [],
   "source": [
    "\n",
    "def pauli_i(N, i, pauli):\n",
    "    # pauli: X Y Z\n",
    "    tmp = [identity for m in range(N)]\n",
    "    tmp[i]=pauli\n",
    "    return tensor(tmp)\n",
    "\n",
    "n=3\n",
    "paulix_n = pauli_i(N, n, X)"
   ]
  },
  {
   "attachments": {},
   "cell_type": "markdown",
   "metadata": {},
   "source": [
    "$$\n",
    "H_0 = - \\frac{1}{2}\\sum_{n=0}^{N-1} \\sigma_x(n)\n",
    "$$"
   ]
  },
  {
   "cell_type": "code",
   "execution_count": 4,
   "metadata": {},
   "outputs": [],
   "source": [
    "H0 = 0\n",
    "for n in range(N):\n",
    "    H0 += pauli_i(N, n, X)\n",
    "H0 = -0.5*H0"
   ]
  },
  {
   "attachments": {},
   "cell_type": "markdown",
   "metadata": {},
   "source": [
    "$$\n",
    "H_1=\\sum_{n=0}^{N-2} 0.1 * \\sigma_z(n) \\sigma_y(n+1)\n",
    "$$"
   ]
  },
  {
   "cell_type": "code",
   "execution_count": 7,
   "metadata": {},
   "outputs": [],
   "source": [
    "H1 = 0\n",
    "for n in range(N-1):\n",
    "    H1 += 0.1 * pauli_i(N, n, Z) * pauli_i(N, n+1, Y)"
   ]
  },
  {
   "attachments": {},
   "cell_type": "markdown",
   "metadata": {},
   "source": [
    "As an example, we will look at an example that has a time-dependent Hamiltonian of the form $H=H_0 + f(t)H_1$ where $f(t)$ is the time-dependent driving strength given as $exp[(-t/2)^2]$\n"
   ]
  },
  {
   "cell_type": "code",
   "execution_count": 16,
   "metadata": {},
   "outputs": [
    {
     "name": "stdout",
     "output_type": "stream",
     "text": [
      "Result object with sesolve data.\n",
      "--------------------------------\n",
      "states = True\n",
      "num_collapse = 0\n"
     ]
    }
   ],
   "source": [
    "import numpy as np\n",
    "def H1_coeff(t, args):\n",
    "    return 9 * np.exp(-(t / 5.) ** 2)\n",
    "\n",
    "H = [H0, [H1, H1_coeff]]\n",
    "t = [0.5, 0.6]\n",
    "\n",
    "psi0 = tensor([basis(2, 1)] + [basis(2,0) for i in range(N-1)]) # Define initial state\n",
    "output = mesolve(H, psi0, t)\n",
    "print(output)"
   ]
  }
 ],
 "metadata": {
  "kernelspec": {
   "display_name": "Python 3",
   "language": "python",
   "name": "python3"
  },
  "language_info": {
   "codemirror_mode": {
    "name": "ipython",
    "version": 3
   },
   "file_extension": ".py",
   "mimetype": "text/x-python",
   "name": "python",
   "nbconvert_exporter": "python",
   "pygments_lexer": "ipython3",
   "version": "3.8.6"
  },
  "orig_nbformat": 4
 },
 "nbformat": 4,
 "nbformat_minor": 2
}
