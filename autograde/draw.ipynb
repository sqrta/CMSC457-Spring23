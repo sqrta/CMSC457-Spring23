{
 "cells": [
  {
   "cell_type": "code",
   "execution_count": 44,
   "metadata": {},
   "outputs": [
    {
     "data": {
      "text/plain": [
       "[<matplotlib.lines.Line2D at 0x1ee2e099310>]"
      ]
     },
     "execution_count": 44,
     "metadata": {},
     "output_type": "execute_result"
    },
    {
     "data": {
      "image/png": "[encoded data removed]",
      "text/plain": [
       "<Figure size 432x288 with 1 Axes>"
      ]
     },
     "metadata": {
      "needs_background": "light"
     },
     "output_type": "display_data"
    }
   ],
   "source": [
    "import matplotlib.pyplot as plt\n",
    "import numpy as np\n",
    "from math import exp, pi, cos, sin\n",
    "\n",
    "x= list(range(1,128))\n",
    "r=6\n",
    "\n",
    "def f(y):\n",
    "    sum = 0 \n",
    "    res = 0\n",
    "    img = 0\n",
    "    for k in range(128):\n",
    "        angle = 2*pi*k*((1/r - y/128))\n",
    "        res += cos(angle)\n",
    "        img += sin(angle)\n",
    "\n",
    "    return (res**2 + img**2)/128**2\n",
    "\n",
    "y = [f(i) for i in x]\n",
    "plt.plot(x,y)"
   ]
  },
  {
   "attachments": {},
   "cell_type": "markdown",
   "metadata": {},
   "source": [
    "$\\frac{1}{128^2}|\\sum_{k=0}^{127} e^{2\\pi i k/r}e^{-2\\pi i k\\cdot( y/128)}|^2$"
   ]
  }
 ],
 "metadata": {
  "kernelspec": {
   "display_name": "Python 3",
   "language": "python",
   "name": "python3"
  },
  "language_info": {
   "codemirror_mode": {
    "name": "ipython",
    "version": 3
   },
   "file_extension": ".py",
   "mimetype": "text/x-python",
   "name": "python",
   "nbconvert_exporter": "python",
   "pygments_lexer": "ipython3",
   "version": "3.8.6"
  },
  "orig_nbformat": 4
 },
 "nbformat": 4,
 "nbformat_minor": 2
}
