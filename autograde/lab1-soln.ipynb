{
 "cells": [
  {
   "cell_type": "markdown",
   "id": "aging-serial",
   "metadata": {},
   "source": [
    "# Lab 1\n",
    "CMSC 457 Spring 2021  \n",
    "Prepared by Ethan Hickman (ethanh \\[at\\] umd.edu)\n",
    "\n",
    "## What we're going to cover\n",
    "- Brief overview of quantum programming languages\n",
    "- What Qiskit offers and the Qiskit stack\n",
    "- Jupyter speedrun\n",
    "- A few quantum protocols:\n",
    "    - Superdense coding\n",
    "    - Deutsch algorithm\n",
    "    - Classical query complexity of the Deutsch-Josza algorithm"
   ]
  },
  {
   "cell_type": "markdown",
   "id": "afraid-wallpaper",
   "metadata": {},
   "source": [
    "## Quantum programming languages — an incomplete list\n",
    "See 'Quantum Programming' on Wikipedia for a more complete list and links to each.\n",
    "\n",
    "### Quantum assembly\n",
    "- cQASM: \"common QASM,\" for __hardware agnostic__ intermediate representation (IR)\n",
    "- OpenQASM (IBM): IR for IBM devices\n",
    "- Blackbird (Xanadu): IR for Xanadu's photonic devices\n",
    "- Is this really assembly? (What will devices look like later?)\n",
    "\n",
    "### Mid-level languages\n",
    "- Qiskit (IBM); superconducting\n",
    "- Forest (Rigetti); superconducting\n",
    "- Ocean (D-Wave); adiabatic\n",
    "\n",
    "#### Simulator-only\n",
    "- Strawberry Fields (Xanadu); photonic\n",
    "- Cirq (Google); superconducting\n",
    "\n",
    "### Higher level languages\n",
    "- Imperative vs. Functional\n",
    "- Q# (Microsoft): Has quantum \"Katas\" to help learn\n",
    "- Silq (ETH): Automatic uncomputation makes programs considerably more concise"
   ]
  },
  {
   "cell_type": "markdown",
   "id": "collected-insider",
   "metadata": {},
   "source": [
    "## Qiskit\n",
    "\n",
    "### Python interface"
   ]
  },
  {
   "cell_type": "code",
   "execution_count": null,
   "id": "cooked-hampshire",
   "metadata": {},
   "outputs": [],
   "source": [
    "from qiskit import *\n",
    "from qiskit.visualization import *\n",
    "import qiskit\n",
    "\n",
    "qiskit.__version__"
   ]
  },
  {
   "cell_type": "markdown",
   "id": "southwest-fever",
   "metadata": {},
   "source": [
    "### The four elements \n",
    "[IBM docs link](https://qiskit.org/documentation/the_elements.html#terra) with more details and precise language.\n",
    "\n",
    "[Qiskit main docs](https://qiskit.org/documentation/index.html), where things are split up into these four sections.\n",
    "\n",
    "#### Terra\n",
    "The bridge from Qiskit to the quantum hardware.\n",
    "- Experiment setup\n",
    "    - Where you actually program the sequence of instructions\n",
    "    - Gates or control pulses directly to the qubits\n",
    "    - 'Transpilation' – the problem of mapping a circuit to a real device\n",
    "- Device interaction\n",
    "    - Communication with IBM cloud\n",
    "    - Fair queueing system\n",
    "    - Async job and results API\n",
    "    \n",
    "#### Aer\n",
    "Simulated backends so we can rapidly test and debug small circuits or circuit elements.\n",
    "- QasmSimulator\n",
    "    - Ideal and noisy 'shot' simulation (remember: most quantum protocols are __not__ deterministic! Also, noise makes even deterministic protocols non-deterministic in real life.)\n",
    "    - A few different simulation techniques to handle some circuit classes more efficiently.\n",
    "- StatevectorSimulator\n",
    "    - Calculates the full statevector, with dimension exponential in the number of qubits.\n",
    "- UnitarySimulator\n",
    "    - Instead of running your circuit, it tells you what the full unitary of your circuit is. This can be expensive to store, because in the worst case, it requires the square of dimension of the Hilbert space!\n",
    "    \n",
    "#### Ignis\n",
    "- Noise, N̷o̵i̵s̷e̷, N̶̗̯̍ö̸̝͉i̴̫͂̈́s̶͓͘ē̵̱͜\n",
    "- We're always computing in the presence of noise with analog devices. With quantum devices, this means computing on garbage and leads to sad grad students.\n",
    "- Circuits\n",
    "    - Template circuit experiments to characterize the intensity and types of noise in a real device.\n",
    "    - \"Poke it with a stick and see what happens\"\n",
    "- Fitters\n",
    "    - Analysis on what happened with the Ignis circuits\n",
    "    - \"Postmortem on poking it with the stick\"\n",
    "- Filters\n",
    "    - Fitter analysis $\\rightarrow$ error mitigation techniques\n",
    "\n",
    "#### Aqua\n",
    "- (A)lgorithms for (QU)antum (A)pplications\n",
    "    - Modules for chemistry, AI/ML, optimization, finance\n",
    "    "
   ]
  },
  {
   "cell_type": "markdown",
   "id": "photographic-prescription",
   "metadata": {},
   "source": [
    "## Jupyter, but really fast"
   ]
  },
  {
   "cell_type": "code",
   "execution_count": null,
   "id": "written-national",
   "metadata": {},
   "outputs": [],
   "source": [
    "print(\"This is Python code in a cell, it gets executed when the cell runs\")\n",
    "\"The last thing executed in a cell is 'output.'\""
   ]
  },
  {
   "cell_type": "code",
   "execution_count": null,
   "id": "vocal-mandate",
   "metadata": {
    "scrolled": true
   },
   "outputs": [],
   "source": [
    "Out  # and Jupyter remembers it!"
   ]
  },
  {
   "cell_type": "code",
   "execution_count": null,
   "id": "preliminary-melbourne",
   "metadata": {},
   "outputs": [],
   "source": [
    "assert not (9 + 10 == 21)\n",
    "assert 9 + 10 == 21, \"duH\""
   ]
  },
  {
   "cell_type": "code",
   "execution_count": null,
   "id": "ideal-declaration",
   "metadata": {},
   "outputs": [],
   "source": [
    "foo = 10"
   ]
  },
  {
   "cell_type": "code",
   "execution_count": null,
   "id": "vocational-telling",
   "metadata": {},
   "outputs": [],
   "source": [
    "foo + 2"
   ]
  },
  {
   "cell_type": "code",
   "execution_count": null,
   "id": "twelve-mexico",
   "metadata": {},
   "outputs": [],
   "source": [
    "foo -= 100"
   ]
  },
  {
   "cell_type": "code",
   "execution_count": null,
   "id": "documentary-publication",
   "metadata": {},
   "outputs": [],
   "source": [
    "def add1(x):\n",
    "    return x + 1"
   ]
  },
  {
   "cell_type": "code",
   "execution_count": null,
   "id": "essential-choir",
   "metadata": {},
   "outputs": [],
   "source": [
    "add1(foo)"
   ]
  },
  {
   "cell_type": "code",
   "execution_count": null,
   "id": "discrete-bones",
   "metadata": {},
   "outputs": [],
   "source": [
    "from collections import Counter\n",
    "\n",
    "import math\n",
    "import numpy as np\n",
    "\n",
    "import pprint as pp\n",
    "\n",
    "rng = np.random.default_rng()"
   ]
  },
  {
   "cell_type": "markdown",
   "id": "going-identification",
   "metadata": {},
   "source": [
    "## Working with circuits\n",
    "\n",
    "A `QuantumCircuit` has a register of qubits and a register of classical bits for measurement results. "
   ]
  },
  {
   "cell_type": "code",
   "execution_count": null,
   "id": "rental-titanium",
   "metadata": {},
   "outputs": [],
   "source": [
    "# Declare a quantum circuit\n",
    "# Give it either two registers, \n",
    "# one +int for the number of qubits in the quantum register\n",
    "# two +ints for the number of qubits and bits in the quantum/classical registers\n",
    "\n",
    "qc = qiskit.QuantumCircuit(3, 3)\n",
    "qc.i(range(3))\n",
    "qc.sx([0, 2])\n",
    "qc.y(1)\n",
    "qc.s(2)\n",
    "\n",
    "print(qc)"
   ]
  },
  {
   "cell_type": "code",
   "execution_count": null,
   "id": "distinct-publicity",
   "metadata": {},
   "outputs": [],
   "source": [
    "state = quantum_info.DensityMatrix.from_instruction(qc)\n",
    "\n",
    "plot_bloch_multivector(state, title=\"Deutsch Algorithm final state\")\n",
    "# plot_state_city(state, color=['orange', 'cyan'], title=\"Deutsch Algorithm final state\")\n",
    "# plot_state_hinton(state, title=\"Deutsch Algorithm final state\")"
   ]
  },
  {
   "cell_type": "code",
   "execution_count": null,
   "id": "checked-spare",
   "metadata": {},
   "outputs": [],
   "source": [
    "qc.cx(0,1)\n",
    "qc.cx(2,1)\n",
    "\n",
    "qc.measure(0, 0)\n",
    "qc.measure(1, 1)\n",
    "\n",
    "qc.draw()"
   ]
  },
  {
   "cell_type": "markdown",
   "id": "dramatic-norfolk",
   "metadata": {},
   "source": [
    "### Some potential rough patches with quantum programming\n",
    "- ~~No 'intermediate' or partial measurement on the actual IBM devices~~ This actually just got added to the API recently!\n",
    "- Limited 'quantum volume' of real experiments\n",
    "    - Defined as $2^n$ for the largest $n$ that doesn't give garbage for 'square' circuits\n",
    "- Debugging can be _really_ tough.\n",
    "    - Depends heavily on analysis and visualization tools and how well you plan to test\n",
    "    - The information is diffuse in the system\n",
    "    - Noise + a lot of steps in the pipeline between your keyboard and the device\n",
    "- Most of the API is stable\n",
    "    \n",
    "###  Some great upsides to all quantum programming languages/toolkits\n",
    "- Most of the API is stable\n",
    "- Interactive, and you can actually just go and try stuff\n",
    "- Access to literally the newest in quantum computing research"
   ]
  },
  {
   "attachments": {},
   "cell_type": "markdown",
   "id": "broadband-optics",
   "metadata": {},
   "source": [
    "---\n",
    "## Superdense coding\n",
    "\n",
    "![](Superdense_coding.png)\n",
    "\n",
    "We're going to use four entangled pairs of qubits to relay one byte of data at a time. We'll be able to decode $n$ bytes ($8n$ bits) by 'sending' $4n$ qubits! (We can't really send qubits in a simulator, but on way we can emulate it is by only giving Alice access to her allocation of qubits and separately initializing the 'hidden' state again for Bob.)\n",
    "\n",
    "Alice wants to send Bob an email, but also has a 2 billion dollar research budget.\n",
    "How can Alice spend as much money as possible in the name of efficiency? With superdense coding!\n",
    "\n",
    "First, Alice hires an undergrad named Charlie to press literally two buttons (on demand, this is where the big bucks are) to entangle pairs of qubits. \n",
    "\n",
    "Charlie carefully packs one qubit from each pair up for Bob, taking care not to drop it* or let it decohere. Alice gets the other qubit, and secretly applies one of $I$, $Z$, $X$, or $ZX$ to that qubit, then Alice sends the modified qubit to Bob too.\n",
    "\n",
    "Bob has the qubits from both Charlie and Alice now, and can decode the email with a team of post-docs and liberal application of Bell measurement.\n",
    "\n",
    "*Yt is actually shockingly inexpensive"
   ]
  },
  {
   "cell_type": "code",
   "execution_count": null,
   "id": "resident-color",
   "metadata": {},
   "outputs": [],
   "source": [
    "# Set a mapping for qubits to give to Alice and Bob\n",
    "to_bob = [2*i for i in range(4)]\n",
    "to_alice = [2*i+1 for i in range(4)]\n",
    "\n",
    "# to_alice = [2*i for i in range(4)]\n",
    "# to_bob = [2*i+1 for i in range(4)]\n",
    "\n",
    "# to_alice = [1, 2, 5, 3]\n",
    "# to_bob = [7, 4, 0, 6]\n",
    "\n",
    "\n",
    "# Charlie is our entanglement source.\n",
    "# Press the button, Charlie.\n",
    "def charlie(qc, to_alice, to_bob):\n",
    "    qc.reset(range(8))\n",
    "    qc.h(to_alice)\n",
    "    qc.cx(to_alice, to_bob)    \n",
    "\n",
    "\n",
    "# Alice encodes byte by byte, four 'crumbs' at a time.\n",
    "# (a crumb is a pair of bits; not quite a nibble and much less than a byte)\n",
    "def alice(qc, byte, to_alice):\n",
    "    # This byte has the bits ordered 'n(n-1)...3210'\n",
    "#     print(f\"{byte:08b}\")\n",
    "\n",
    "    # A crumb is the word for 2 bits!\n",
    "    # Given a big-endian byte, we want little-endian list of crumbs.\n",
    "    # Grab the bits in zero padded pairs with a combo of shift \n",
    "    #   and bitwise AND.\n",
    "    \n",
    "    # This list will have the bits in pairs ['10', '32', ..., 'n(n-1)']\n",
    "    crumbs = ['11','10','01','00']\n",
    "    \n",
    "    # cidx for 'crumb index'\n",
    "    for cidx in range(4):\n",
    "        if crumbs[cidx] == \"00\":\n",
    "            pass\n",
    "        if crumbs[cidx] == \"01\":\n",
    "            qc.x(to_alice[cidx])\n",
    "        if crumbs[cidx] == \"10\":\n",
    "            qc.z(to_alice[cidx])\n",
    "        if crumbs[cidx] == \"11\":\n",
    "            qc.z(to_alice[cidx])\n",
    "            qc.x(to_alice[cidx])\n",
    "\n",
    "            \n",
    "def bob(qc, to_alice, to_bob):\n",
    "    qc.cx(to_alice, to_bob)\n",
    "    qc.h(to_alice)\n",
    "    \n",
    "\n",
    "# Write the quantum circuit\n",
    "qc = qiskit.QuantumCircuit(8)\n",
    "\n",
    "charlie(qc, to_alice, to_bob)\n",
    "qc.barrier()\n",
    "print(\"Circuit after Charlie:\")\n",
    "print(qc)\n",
    "\n",
    "# Test all four crumbs, 00 01 10 11, at once\n",
    "b = bytearray([0b00011011])\n",
    "alice(qc, b[0], to_alice)\n",
    "qc.barrier()\n",
    "print(\"Circuit after Alice:\")\n",
    "print(qc)\n",
    "\n",
    "bob(qc, to_alice, to_bob)\n",
    "# measure_all applies a barrier()\n",
    "qc.measure_all()\n",
    "print(\"Circuit after Bob:\")\n",
    "print(qc)"
   ]
  },
  {
   "cell_type": "code",
   "execution_count": null,
   "id": "peripheral-apple",
   "metadata": {},
   "outputs": [],
   "source": [
    "# Noiseless simulation\n",
    "backend = Aer.get_backend('qasm_simulator')\n",
    "job = execute(qc, backend, shots=1000)\n",
    "result = job.result()\n",
    "print(\"Counts:\", result.get_counts(qc))"
   ]
  },
  {
   "cell_type": "code",
   "execution_count": null,
   "id": "final-treat",
   "metadata": {
    "scrolled": false
   },
   "outputs": [],
   "source": [
    "res = list(result.get_counts(qc))[0]\n",
    "print(res)\n",
    "\n",
    "permutation = list(zip(to_alice, to_bob))[::-1]\n",
    "print(\"permutation:\", permutation)\n",
    "\n",
    "# string index = 7-qubit index \n",
    "reconstructed_crumbs = [''.join([res[7-qidx] for qidx in tup]) for tup in permutation]\n",
    "print(\"crumbs:\", reconstructed_crumbs)\n",
    "\n",
    "reconstructed_byte = ''.join(reconstructed_crumbs)\n",
    "print(\"reconstructed:\", reconstructed_byte)\n"
   ]
  },
  {
   "cell_type": "code",
   "execution_count": null,
   "id": "silent-swing",
   "metadata": {},
   "outputs": [],
   "source": [
    "\n",
    "states_from_alice = []\n",
    "msg = \"\"\"Hi, Bob!\n",
    "\n",
    "  Lovely weather today.\n",
    "\n",
    "From,\n",
    "Alice\"\"\"\n",
    "\n",
    "\n",
    "backend = Aer.get_backend('statevector_simulator')\n",
    "\n",
    "byte_arr = bytearray()\n",
    "byte_arr.extend(map(ord, msg))\n",
    "\n",
    "\n",
    "for byte in byte_arr:\n",
    "    qc = QuantumCircuit(8)\n",
    "    \n",
    "    charlie(qc, to_alice, to_bob)\n",
    "    alice(qc, byte, to_alice)\n",
    "    \n",
    "    job = execute(qc, backend)\n",
    "    result = job.result()\n",
    "    hidden_state = result.get_statevector()\n",
    "    states_from_alice.append(hidden_state)\n",
    "\n",
    "backend = Aer.get_backend('qasm_simulator')\n",
    "decoded = []\n",
    "for state in states_from_alice:\n",
    "    qc = qiskit.QuantumCircuit(8)\n",
    "    qc.initialize(state, range(8))\n",
    "    bob(qc, to_alice, to_bob)\n",
    "    qc.measure_all()\n",
    "    \n",
    "    job = execute(qc, backend, memory=True, shots=1)\n",
    "    result = job.result()\n",
    "    \n",
    "    # Works for a noisy simulation\n",
    "#     counts = result.get_counts()\n",
    "#     measured_binary = Counter(counts).most_common(1)[0][0]\n",
    "    \n",
    "    # Works for a noiseless simulation\n",
    "    measurements = result.get_memory()\n",
    "    measured_binary = measurements[0]\n",
    "    \n",
    "    reconstructed_crumbs = [''.join([measured_binary[7-qidx] for qidx in tup]) for tup in permutation]\n",
    "    reconstructed_byte = ''.join(reconstructed_crumbs)\n",
    "    \n",
    "    received_char = chr(int(reconstructed_byte, 2))\n",
    "    decoded.append(received_char)\n"
   ]
  },
  {
   "cell_type": "code",
   "execution_count": null,
   "id": "dental-librarian",
   "metadata": {},
   "outputs": [],
   "source": [
    "print(''.join(decoded))"
   ]
  }
 ],
 "metadata": {
  "kernelspec": {
   "display_name": "Python 3",
   "language": "python",
   "name": "python3"
  },
  "language_info": {
   "codemirror_mode": {
    "name": "ipython",
    "version": 3
   },
   "file_extension": ".py",
   "mimetype": "text/x-python",
   "name": "python",
   "nbconvert_exporter": "python",
   "pygments_lexer": "ipython3",
   "version": "3.8.6"
  },
  "vscode": {
   "interpreter": {
    "hash": "b337b16e1f284c9fe7de692799556d56c1809887abe3f5a49ffeb9e7df151cfb"
   }
  }
 },
 "nbformat": 4,
 "nbformat_minor": 5
}
