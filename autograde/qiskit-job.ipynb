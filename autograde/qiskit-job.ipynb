{
 "cells": [
  {
   "cell_type": "code",
   "execution_count": 7,
   "metadata": {},
   "outputs": [
    {
     "name": "stderr",
     "output_type": "stream",
     "text": [
      "ibmqfactory.load_account:WARNING:2023-02-14 11:24:48,192: Credentials are already in use. The existing account in the session will be replaced.\n"
     ]
    },
    {
     "data": {
      "text/plain": [
       "[<AccountProvider for IBMQ(hub='ibm-q', group='open', project='main')>]"
      ]
     },
     "execution_count": 7,
     "metadata": {},
     "output_type": "execute_result"
    }
   ],
   "source": [
    "from qiskit import IBMQ, QuantumCircuit, execute\n",
    "\n",
    "# IBMQ.save_account(TOKEN)\n",
    "IBMQ.load_account() # Load account from disk\n",
    "IBMQ.providers()    # List all available providers"
   ]
  },
  {
   "cell_type": "code",
   "execution_count": 8,
   "metadata": {},
   "outputs": [
    {
     "data": {
      "text/plain": [
       "[<IBMQBackend('ibmq_lima') from IBMQ(hub='ibm-q', group='open', project='main')>,\n",
       " <IBMQBackend('ibmq_belem') from IBMQ(hub='ibm-q', group='open', project='main')>,\n",
       " <IBMQBackend('ibmq_quito') from IBMQ(hub='ibm-q', group='open', project='main')>,\n",
       " <IBMQBackend('ibmq_manila') from IBMQ(hub='ibm-q', group='open', project='main')>,\n",
       " <IBMQBackend('ibm_nairobi') from IBMQ(hub='ibm-q', group='open', project='main')>,\n",
       " <IBMQBackend('ibm_oslo') from IBMQ(hub='ibm-q', group='open', project='main')>]"
      ]
     },
     "execution_count": 8,
     "metadata": {},
     "output_type": "execute_result"
    }
   ],
   "source": [
    "\n",
    "provider = IBMQ.get_provider(hub='ibm-q')  \n",
    "# List all available real quantum device\n",
    "provider.backends(simulator=False, operational=True) "
   ]
  },
  {
   "cell_type": "code",
   "execution_count": 10,
   "metadata": {},
   "outputs": [
    {
     "data": {
      "text/plain": [
       "[]"
      ]
     },
     "execution_count": 10,
     "metadata": {},
     "output_type": "execute_result"
    }
   ],
   "source": [
    "# Or, only those backends that are real devices, have more than 10 qubits,\n",
    "provider.backends(filters=lambda x: x.configuration().n_qubits >= 10\n",
    "                                    and not x.configuration().simulator\n",
    "                                    and x.status().operational==True)"
   ]
  },
  {
   "cell_type": "code",
   "execution_count": 11,
   "metadata": {},
   "outputs": [
    {
     "name": "stdout",
     "output_type": "stream",
     "text": [
      "     ┌───┐     \n",
      "q_0: ┤ H ├──■──\n",
      "     └───┘┌─┴─┐\n",
      "q_1: ─────┤ X ├\n",
      "          └───┘\n"
     ]
    }
   ],
   "source": [
    "backend = provider.get_backend('ibmq_belem')\n",
    "\n",
    "circ = QuantumCircuit(2) # build a circuit\n",
    "circ.h(0)\n",
    "\n",
    "circ.cx(0,1)\n",
    "print(circ)"
   ]
  },
  {
   "cell_type": "code",
   "execution_count": 12,
   "metadata": {},
   "outputs": [
    {
     "name": "stdout",
     "output_type": "stream",
     "text": [
      "Job has been sent to IBMQ\n",
      "{}\n"
     ]
    }
   ],
   "source": [
    "job = execute(circ, backend)\n",
    "print(\"Job has been sent to IBMQ\")\n",
    "\n",
    "result = job.result()\n",
    "counts = result.get_counts()\n",
    "print(counts)"
   ]
  }
 ],
 "metadata": {
  "kernelspec": {
   "display_name": "Python 3",
   "language": "python",
   "name": "python3"
  },
  "language_info": {
   "codemirror_mode": {
    "name": "ipython",
    "version": 3
   },
   "file_extension": ".py",
   "mimetype": "text/x-python",
   "name": "python",
   "nbconvert_exporter": "python",
   "pygments_lexer": "ipython3",
   "version": "3.8.6"
  },
  "orig_nbformat": 4,
  "vscode": {
   "interpreter": {
    "hash": "b337b16e1f284c9fe7de692799556d56c1809887abe3f5a49ffeb9e7df151cfb"
   }
  }
 },
 "nbformat": 4,
 "nbformat_minor": 2
}
