{
 "cells": [
  {
   "attachments": {},
   "cell_type": "markdown",
   "metadata": {},
   "source": [
    "# Assign2: Solve Lights Out Puzzle\n",
    "\n",
    "Lights out is a famous puzzle game. The player is given a rectangular grid of lights which can be switched on and off. When you flip a switch inside one of those squares, it will toggle the on/off state of this and adjacent squares (up, down, left and right). Your goal is to turn all the lights off from a random starting light pattern.\n",
    "\n",
    "## Example Puzzle\n",
    "\n",
    "An example of the puzzle with 3 x 3 grid is shown in the figure below. The light squares are labelled from 0 to 8. We can represent the starting pattern using a list of numbers, where `1` represents lights switched on and `0` represnts ligths switched off. The list `lights` below represents the starting pattern in this example (squares 3, 5, 6, 7 are on and the rest are off):\n",
    "\n",
    "```python\n",
    "lights = [0, 0, 0, 1, 0, 1, 1, 1, 0]\n",
    "```\n",
    "\n",
    "The example puzzle can be solved by flipping the switches in square 0, 3 and 4 as illustrated step by step in the figure. If you play with it a little bit, you will soon notice **two important properties of this puzzle game**:\n",
    "\n",
    "1. You don't need to flip a switch more than once.\n",
    "2. The order of flipping doesn't matter.\n",
    "\n",
    "Therefore, we can represent the puzzle solution as a list of numbers similar to the starting pattern. However, the meaning of `0` and `1` are different here:  `1` represents flipping a switch and `0` represents *not* flipping a switch. \n",
    "\n",
    "```python\n",
    "solution = [1, 0, 0, 1, 1, 0, 0, 0, 0]\n",
    "```\n",
    "\n",
    "![](lights_out_rule.png)"
   ]
  },
  {
   "attachments": {},
   "cell_type": "markdown",
   "metadata": {},
   "source": [
    "## Solve 3 x 3 Light Out Puzzle with Grover Search\n",
    "\n",
    "You are required to implement a Qiskit Grover Search program to solve the 3 x 3 Light Out Puzzle. You are provided with [starter code](lightpuzzle.py). Your job is to finish the function `light_out_grover` in it. You may find it helpful to first implement the function `flip_tile` first and call it in the function `light_out_grover`. \n",
    "\n",
    "## Hint\n",
    "\n",
    "At the start of the function `light_out_grover`, the starter code first prepares the registers. `lights` is a list of binary number indicating the initial state of the 3 x 3 Light Out Puzzle. `N` is the number of the Grover iteration and you can ignore it.\n",
    "```python\n",
    "def light_out_grover(lights, N):\n",
    "    tile = QuantumRegister(9)\n",
    "    flip = QuantumRegister(9)\n",
    "    oracle_output = QuantumRegister(1)\n",
    "    result = ClassicalRegister(9)\n",
    "    qc = QuantumCircuit(tile, flip, oracle_output,  result)\n",
    "```\n",
    "\n",
    "The `tile` register is used to represent the state of the lights. The `flip` register represents which switch to press. The `oracle` register is used to mark the solution that can turned off all lights. The `result` register is a classic register for storing the answer to a question. You may find it helpful to implement your Grover Search following the circuit structure below.\n",
    "\n",
    "![](lights_out_circuit.jpg)"
   ]
  },
  {
   "attachments": {},
   "cell_type": "markdown",
   "metadata": {},
   "source": [
    "First, you need to map the input binary vector `lights` to the quantum register `tile` (what the `map_problem` component does). Then you need to implement the oracle for the Grover iteration part. One method is to flip the `tile` register (the state of the light) based on the `flip` register (represent which switch to press) with some CNOT gates, which the component `flip_tile` does. Then if the register `tile` are all 0 (all lights are off), flip the `oracle_output` qubit. Then you should recover `tile` by applying `flip_tile` again. Finally, you need to apply the Grover diffusion operator. The diffusion operator is already implemented by the function `diffusion` in the starter code and you can use it."
   ]
  }
 ],
 "metadata": {
  "kernelspec": {
   "display_name": "Python 3",
   "language": "python",
   "name": "python3"
  },
  "language_info": {
   "name": "python",
   "version": "3.8.6"
  },
  "orig_nbformat": 4,
  "vscode": {
   "interpreter": {
    "hash": "b337b16e1f284c9fe7de692799556d56c1809887abe3f5a49ffeb9e7df151cfb"
   }
  }
 },
 "nbformat": 4,
 "nbformat_minor": 2
}
