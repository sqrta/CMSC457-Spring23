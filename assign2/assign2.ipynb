{
 "cells": [
  {
   "attachments": {},
   "cell_type": "markdown",
   "metadata": {},
   "source": [
    "# Assign2: Lights Out Puzzle\n",
    "\n",
    "Lights out is a famous puzzle game. The player is given a rectangular grid of lights which can be switched on and off. When you flip a switch inside one of those squares, it will toggle the on/off state of this and adjacent squares (up, down, left and right). Your goal is to turn all the lights off from a random starting light pattern.\n",
    "\n",
    "## Example Puzzle\n",
    "\n",
    "An example of the puzzle with 3 x 3 grid is shown in the figure below. The light squares are labelled from 0 to 8. We can represent the starting pattern using a list of numbers, where `1` represents lights switched on and `0` represnts ligths switched off. The list `lights` below represents the starting pattern in this example (squares 3, 5, 6, 7 are on and the rest are off):\n",
    "\n",
    "```python\n",
    "lights = [0, 0, 0, 1, 0, 1, 1, 1, 0]\n",
    "```\n",
    "\n",
    "The example puzzle can be solved by flipping the switches in square 0, 3 and 4 as illustrated step by step in the figure. If you play with it a little bit, you will soon notice **two important properties of this puzzle game**:\n",
    "\n",
    "1. You don't need to flip a switch more than once.\n",
    "2. The order of flipping doesn't matter.\n",
    "\n",
    "Therefore, we can represent the puzzle solution as a list of numbers similar to the starting pattern. However, the meaning of `0` and `1` are different here:  `1` represents flipping a switch and `0` represents *not* flipping a switch. \n",
    "\n",
    "```python\n",
    "solution = [1, 0, 0, 1, 1, 0, 0, 0, 0]\n",
    "```\n",
    "\n",
    "![](lights_out_rule.png)"
   ]
  },
  {
   "attachments": {},
   "cell_type": "markdown",
   "metadata": {},
   "source": [
    "## Solve 3 x 3 Light Out Puzzle with Grover Search\n",
    "\n",
    "You are required to implement a Qiskit Grover Search program to solve the 3 x 3 Lights Out Puzzle. You are provided with [starter code](lightpuzzle.py). Your job is to finish the function `light_out_grover` in it. You may find it helpful to first implement the function `flip_tile` first and call it in the function `light_out_grover`. \n",
    "\n",
    "## Hint\n",
    "\n",
    "For the function `light_out_grover`, the input `lights` is a list of binary number indicating the initial state of the 3 x 3 Light Out Puzzle. `N` is the number of the Grover iteration and you can ignore it.\n",
    "```python\n",
    "def light_out_grover(lights, N):\n",
    "    tile = QuantumRegister(9)\n",
    "    flip = QuantumRegister(9)\n",
    "    oracle_output = QuantumRegister(1)\n",
    "    result = ClassicalRegister(9)\n",
    "    qc = QuantumCircuit(tile, flip, oracle_output,  result)\n",
    "```\n",
    "\n",
    "The function `light_out_grover` first prepares the necessary registers. The `tile` register is used to represent the state of the lights. The `flip` register represents which switch to press, and we will measure it to get the solution. The `oracle` register is used to mark the solution that can turned off all lights. The `result` register is a classic register for storing the answer to a question. You may find it helpful to implement your Grover Search following the circuit structure below.\n",
    "\n",
    "![](lights_out_circuit.jpg)"
   ]
  },
  {
   "attachments": {},
   "cell_type": "markdown",
   "metadata": {},
   "source": [
    "1. First, you need to map the input binary vector `lights` to the quantum register `tile` (what the `map_problem` component does). \n",
    "2. Then you need to implement the oracle for the Grover iteration part. One method is to flip the `tile` register (the state of the light) based on the `flip` register (represent which switch to press) with some CNOT gates, which the component `flip_tile` does. Register `tile` should be changed to all 0 if register `flip` stores the solution.\n",
    "3. Then if the register `tile` are all 0 (all lights are off), flip the `oracle_output` qubit. \n",
    "4. Then you should recover `tile` by applying `flip_tile` again. \n",
    "5. Finally, you need to apply the Grover diffusion operator. The diffusion operator is already implemented by the function `diffusion` in the starter code and you can use it."
   ]
  },
  {
   "attachments": {},
   "cell_type": "markdown",
   "metadata": {},
   "source": [
    "## What to Submit\n",
    "\n",
    "- `lightpuzzle.py`\n",
    "\n",
    "Submit your program to the Gradescope. Gradescope will test your submission automatically. You can resubmit until the due date (Mar 30, 2023 at 11:00:00 PM EST). But the auto-test works only once per 12 hours. We will manually grade the last version of your submissions if you do not get the full point from the auto-grader.\n",
    "\n",
    "## Academic Integrity\n",
    "\n",
    "Your submissions will be checked manually. The following are examples of academic integrity violations:\n",
    "\n",
    "- Hardcoding of results in an assignment. Hardcoding refers to attempting to make a program appear as if it works correctly (e.g., printing expected results for a test).\n",
    "- Hiring any online service to complete an assignment for you.\n",
    "- Sharing your code or your tests with any student."
   ]
  }
 ],
 "metadata": {
  "kernelspec": {
   "display_name": "Python 3",
   "language": "python",
   "name": "python3"
  },
  "language_info": {
   "name": "python",
   "version": "3.8.6"
  },
  "orig_nbformat": 4,
  "vscode": {
   "interpreter": {
    "hash": "b337b16e1f284c9fe7de692799556d56c1809887abe3f5a49ffeb9e7df151cfb"
   }
  }
 },
 "nbformat": 4,
 "nbformat_minor": 2
}
