{
 "cells": [
  {
   "cell_type": "markdown",
   "metadata": {},
   "source": [
    "# Assign3: Dynamics of a Spin Chain\n",
    "\n",
    "In this assignment, you are going to use Qutip to simulate the evolution of a time-dependent Hamiltonian for a $N$-qubit Spin Chain System. Specifically, your are required to build the Hamiltonian below and simulate it with Qutip.\n"
   ]
  },
  {
   "cell_type": "markdown",
   "metadata": {},
   "source": [
    "$\\displaystyle H(t) = - \\frac{1}{2}\\sum_{n=0}^{N-1} h^{(n)} \\sigma_z(n) - \\frac{e^{- (t/5)^2}}{2} \\sum_{n=0}^{N-2} [ J_x^{(n)} \\sigma_x(n) \\sigma_x(n+1) + J_y^{(n)} \\sigma_y(n) \\sigma_y(n+1) +J_z^{(n)} \\sigma_z(n) \\sigma_z(n+1)]$"
   ]
  },
  {
   "cell_type": "markdown",
   "metadata": {},
   "source": [
    "Here \n",
    "- $h, J_x, J_y, J_z$ are pre-defined coefficient array of length $N$. \n",
    "- $h^{(n)},J_x^{(n)},J_y^{(n)},J_z^{(n)}$ means the $n$-th value of the array.\n",
    "- $\\sigma_x(n)$ means applying a Pauli X operator on qubit $n$ and Identity operators on other qubits). $\\sigma_y, \\sigma_z$ are Pauli Y and Pauli Z operators.\n",
    "- $t$ is time. Notice the time coefficient function $\\frac{e^{- (t/5)^2}}{2}$ in the Hamiltonian.\n",
    "\n",
    "You are provided with [starter code](spin.py). Your job is to finish the function `integrate` in it. The function `integrate` is in the form\n",
    "```python\n",
    "def integrate(N, h, Jx, Jy, Jz, psi0, tlist):\n",
    "```\n",
    "The input `N, h, Jx, Jy, Jz` are $N, h, J_x, J_y, J_z$ respectively. `psi0, tlist` are initial state and the time list, and you can ignore these two variables.\n",
    "\n",
    "*For local test, please keep your `numpy` in version `1.20.3`. *"
   ]
  },
  {
   "cell_type": "markdown",
   "metadata": {},
   "source": [
    "# Environment Setup\n",
    "\n",
    "You can install `qutip` with\n",
    "```\n",
    "pip install qutip\n",
    "```\n",
    "\n",
    "You can install `numpy` in version `1.20.3` with\n",
    "```\n",
    "pip install numpy==1.20.3\n",
    "```\n",
    "or\n",
    "```\n",
    "pip install --upgrade numpy==1.20.3\n",
    "```\n",
    "if you have already installed numpy in some version."
   ]
  },
  {
   "cell_type": "markdown",
   "metadata": {},
   "source": [
    "## What to Submit\n",
    "\n",
    "- `spin.py`\n",
    "\n",
    "Submit your program to the Gradescope. Gradescope will test your submission automatically. You can resubmit until the due date (May 11th, 2023 at 11:00:00 PM EST). But the auto-test works only once per 12 hours. We will manually grade the last version of your submissions if you do not get the full point from the auto-grader.\n",
    "\n",
    "## Academic Integrity\n",
    "\n",
    "Your submissions will be checked manually. The following are examples of academic integrity violations:\n",
    "\n",
    "- Hardcoding of results in an assignment. Hardcoding refers to attempting to make a program appear as if it works correctly (e.g., printing expected results for a test).\n",
    "- Hiring any online service to complete an assignment for you.\n",
    "- Sharing your code or your tests with any student."
   ]
  }
 ],
 "metadata": {
  "language_info": {
   "name": "python"
  },
  "orig_nbformat": 4
 },
 "nbformat": 4,
 "nbformat_minor": 2
}
