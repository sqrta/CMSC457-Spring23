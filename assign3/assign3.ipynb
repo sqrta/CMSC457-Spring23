{
 "cells": [
  {
   "cell_type": "markdown",
   "metadata": {},
   "source": [
    "# Assign3: Dynamics of a Spin Chain\n",
    "\n",
    "In this assignment, you are going to use Qutip to simulate the evolution of a time-dependent Hamiltonian for a $N$-qubit Spin Chain System. Specifically, your are required to build the Hamiltonian below and simulate it with Qutip.\n"
   ]
  },
  {
   "cell_type": "markdown",
   "metadata": {},
   "source": [
    "$\\displaystyle H(t) = - \\frac{1}{2}\\sum_{n=0}^{N-1} h^{(n)} \\sigma_z(n) - \\frac{e^{- (t/5)^2}}{2} \\sum_{n=0}^{N-2} [ J_x^{(n)} \\sigma_x(n) \\sigma_x(n+1) + J_y^{(n)} \\sigma_y(n) \\sigma_y(n+1) +J_z^{(n)} \\sigma_z(n) \\sigma_z(n+1)]$"
   ]
  },
  {
   "attachments": {},
   "cell_type": "markdown",
   "metadata": {},
   "source": [
    "Here \n",
    "- $h, J_x, J_y, J_z$ are pre-defined coefficient array of length $N$. \n",
    "- $h^{(n)},J_x^{(n)},J_y^{(n)},J_z^{(n)}$ means the $n$-th value of the array.\n",
    "- $\\sigma_x(n)$ means applying a Pauli X operator on qubit $n$ and Identity operators on other qubits). $\\sigma_y, \\sigma_z$ are Pauli Y and Pauli Z operators.\n",
    "- $t$ is time and there is a time coefficient function $\\frac{e^{- (t/5)^2}}{2}$ in the Hamiltonian $H(t)$.\n",
    "\n",
    "You are provided with [starter code](spin.py). Your job is to finish the function `integrate` in it. The function `integrate` is in the form\n",
    "```python\n",
    "def integrate(N, h, Jx, Jy, Jz, psi0, tlist):\n",
    "```\n",
    "The input `N, h, Jx, Jy, Jz` are $N, h, J_x, J_y, J_z$ respectively （i.e. `h[n]`=$h^{(n)}$, `Jx[n]`=$J_x^{(n)}$). psi0, tlist` are initial state and the time list, and you can ignore these two variables.\n",
    "\n",
    "*For local test, please keep your `numpy` in version `1.20.3`. *"
   ]
  },
  {
   "cell_type": "markdown",
   "metadata": {},
   "source": [
    "# Environment Setup\n",
    "\n",
    "You can install `qutip` with\n",
    "```\n",
    "pip install qutip\n",
    "```\n",
    "\n",
    "You can install `numpy` in version `1.20.3` with\n",
    "```\n",
    "pip install numpy==1.20.3\n",
    "```\n",
    "or\n",
    "```\n",
    "pip install --upgrade numpy==1.20.3\n",
    "```\n",
    "if you have already installed numpy in some version."
   ]
  },
  {
   "cell_type": "markdown",
   "metadata": {},
   "source": [
    "## What to Submit\n",
    "\n",
    "- `spin.py`\n",
    "\n",
    "Submit your program to the Gradescope. Gradescope will test your submission automatically. You can resubmit until the due date (May 11th, 2023 at 11:00:00 PM EST). But the auto-test works only once per 12 hours. We will manually grade the last version of your submissions if you do not get the full point from the auto-grader.\n",
    "\n",
    "## Academic Integrity\n",
    "\n",
    "Your submissions will be checked manually. The following are examples of academic integrity violations:\n",
    "\n",
    "- Hardcoding of results in an assignment. Hardcoding refers to attempting to make a program appear as if it works correctly (e.g., printing expected results for a test).\n",
    "- Hiring any online service to complete an assignment for you.\n",
    "- Sharing your code or your tests with any student."
   ]
  },
  {
   "cell_type": "markdown",
   "metadata": {},
   "source": [
    "# Qutip Examples"
   ]
  },
  {
   "cell_type": "code",
   "execution_count": null,
   "metadata": {},
   "outputs": [],
   "source": [
    "from qutip import *\n",
    "\n",
    "# 5-qubit system\n",
    "N = 5"
   ]
  },
  {
   "cell_type": "markdown",
   "metadata": {},
   "source": [
    "Identity and Pauli X Y Z operators"
   ]
  },
  {
   "cell_type": "code",
   "execution_count": null,
   "metadata": {},
   "outputs": [],
   "source": [
    "identity = qeye(2)\n",
    "X = sigmax()\n",
    "Y = sigmay()\n",
    "Z = sigmaz()"
   ]
  },
  {
   "cell_type": "markdown",
   "metadata": {},
   "source": [
    "$\\sigma_x(n)$ means a Pauli X operator on the n-th qubits and identity operators on the other qubits"
   ]
  },
  {
   "cell_type": "code",
   "execution_count": null,
   "metadata": {},
   "outputs": [],
   "source": [
    "\n",
    "def pauli_i(N, i, pauli):\n",
    "    # pauli: X Y Z\n",
    "    tmp = [identity for m in range(N)]\n",
    "    tmp[i]=pauli\n",
    "    return tensor(tmp)\n",
    "\n",
    "n=3\n",
    "paulix_n = pauli_i(N, n, X)"
   ]
  },
  {
   "cell_type": "markdown",
   "metadata": {},
   "source": [
    "$$\n",
    "H_0 = - \\frac{1}{2}\\sum_{n=0}^{N-1} \\sigma_x(n)\n",
    "$$"
   ]
  },
  {
   "cell_type": "code",
   "execution_count": null,
   "metadata": {},
   "outputs": [],
   "source": [
    "H0 = 0\n",
    "for n in range(N):\n",
    "    H0 += pauli_i(N, n, X)\n",
    "H0 = -0.5*H0"
   ]
  },
  {
   "cell_type": "markdown",
   "metadata": {},
   "source": [
    "$$\n",
    "H_1=\\sum_{n=0}^{N-2} 0.1 * \\sigma_z(n) \\sigma_y(n+1)\n",
    "$$"
   ]
  },
  {
   "cell_type": "code",
   "execution_count": null,
   "metadata": {},
   "outputs": [],
   "source": [
    "H1 = 0\n",
    "for n in range(N-1):\n",
    "    H1 += 0.1 * pauli_i(N, n, Z) * pauli_i(N, n+1, Y)"
   ]
  },
  {
   "cell_type": "markdown",
   "metadata": {},
   "source": [
    "As an example, we will look at an example that has a time-dependent Hamiltonian of the form $H=H_0 + f(t)H_1$ where $f(t)$ is the time-dependent driving strength given as $exp[(-t/2)^2]$\n"
   ]
  },
  {
   "cell_type": "code",
   "execution_count": null,
   "metadata": {},
   "outputs": [
    {
     "name": "stdout",
     "output_type": "stream",
     "text": [
      "Result object with sesolve data.\n",
      "--------------------------------\n",
      "states = True\n",
      "num_collapse = 0\n"
     ]
    }
   ],
   "source": [
    "import numpy as np\n",
    "def H1_coeff(t, args):\n",
    "    return 9 * np.exp(-(t / 5.) ** 2)\n",
    "\n",
    "H = [H0, [H1, H1_coeff]]\n",
    "t = [0.5, 0.6]\n",
    "\n",
    "psi0 = tensor([basis(2, 1)] + [basis(2,0) for i in range(N-1)]) # Define initial state\n",
    "output = mesolve(H, psi0, t)\n",
    "print(output)"
   ]
  }
 ],
 "metadata": {
  "language_info": {
   "name": "python"
  },
  "orig_nbformat": 4
 },
 "nbformat": 4,
 "nbformat_minor": 2
}
